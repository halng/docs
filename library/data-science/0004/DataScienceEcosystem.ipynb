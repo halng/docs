{
 "cells": [
  {
   "cell_type": "markdown",
   "id": "8b1031491b57b801",
   "metadata": {
    "collapsed": false
   },
   "source": [
    "# Data Science Tools and Ecosystem"
   ]
  },
  {
   "cell_type": "markdown",
   "id": "d94cdd16927609c3",
   "metadata": {
    "collapsed": false
   },
   "source": [
    "In this notebook, Data Science Tools and Ecosystem are summarized."
   ]
  },
  {
   "cell_type": "markdown",
   "id": "40004647eec3585c",
   "metadata": {
    "collapsed": false
   },
   "source": [
    "Some of the commonly used libraries used by Data Scientists include:\n",
    "* Python\n",
    "* R\n",
    "* Java\n",
    "* Scala"
   ]
  },
  {
   "cell_type": "markdown",
   "id": "18dc63c0b29223fc",
   "metadata": {
    "collapsed": false
   },
   "source": [
    "Objective\n",
    "* Extract meaningful insights: Identify patterns, trends, and correlations in data\n",
    " to derive actionable information.\n",
    "* Predictive modeling: Develop models to forecast future events or outcomes based on historical data and patterns.\n",
    "* Optimization and decision-making: Leverage data to improve decision-making by identifying the best courses of action or optimizing resource allocation.\n",
    "* Automation and efficiency: Automate data-intensive tasks and streamline processes, reducing time and effort spent on manual operations\n",
    "* Communication and visualization: Effectively convey insights and findings\n",
    " through clear and concise visualizations and reports, enabling stakeholders to make informed decisions.\n"
   ]
  },
  {
   "cell_type": "markdown",
   "id": "88b64807ae62d35c",
   "metadata": {
    "collapsed": false
   },
   "source": [
    "Some of the commonly used libraries used by Data Scientists include:\n",
    "- TensorFlow\n",
    "- NumPy\n",
    "- SciPy \n",
    "- Pandas\n",
    "- Matplotlib \n",
    "- Keras\n",
    "- SciKit-Learn\n",
    "- PyTorch\n",
    "- Scrapy\n",
    "- BeautifulSoup\n",
    "- LightGBM\n",
    "- ELI5\n",
    "- Theano"
   ]
  },
  {
   "cell_type": "markdown",
   "id": "99c1c20cb13ae36",
   "metadata": {
    "collapsed": false
   },
   "source": [
    "| Data Science Tools |\n",
    "|--------------------|\n",
    "| Apache Spark       |\n",
    "| Julia              |\n",
    "| Jupyter Notebook   |\n",
    "| Matlab             |\n",
    "| Scikit-learn       |\n",
    "| PyTorch            |\n"
   ]
  },
  {
   "cell_type": "markdown",
   "id": "4805ed81b1c92c3c",
   "metadata": {
    "collapsed": false
   },
   "source": [
    "### Below are a few examples of evaluating arithmetic expressions in Python."
   ]
  },
  {
   "cell_type": "code",
   "execution_count": 1,
   "id": "5bc1f087af1947c3",
   "metadata": {
    "ExecuteTime": {
     "end_time": "2024-03-02T04:17:25.472686Z",
     "start_time": "2024-03-02T04:17:25.466533Z"
    },
    "collapsed": false
   },
   "outputs": [
    {
     "name": "stdout",
     "output_type": "stream",
     "text": [
      "17\n"
     ]
    }
   ],
   "source": [
    "# this a simple arithmetic expression \n",
    "result = (3*4)+5\n",
    "print(result)"
   ]
  },
  {
   "cell_type": "code",
   "execution_count": 4,
   "id": "10b3269ef58e82de",
   "metadata": {
    "ExecuteTime": {
     "end_time": "2024-03-02T03:44:09.751958Z",
     "start_time": "2024-03-02T03:44:07.597927Z"
    },
    "collapsed": false
   },
   "outputs": [
    {
     "name": "stdout",
     "output_type": "stream",
     "text": [
      "The hour is 3 and minute is 20\n"
     ]
    }
   ],
   "source": [
    "m = int(input(\"Enter a minutes: \"))\n",
    "h = m // 60\n",
    "m = m % 60\n",
    "\n",
    "print(f'The hour is {h} and minute is {m}')"
   ]
  },
  {
   "cell_type": "markdown",
   "id": "aeb6894ba979646c",
   "metadata": {
    "collapsed": false
   },
   "source": [
    "## Author(s)\n",
    " *Hao Nguyen*"
   ]
  },
  {
   "cell_type": "code",
   "execution_count": 2,
   "id": "61ac633443a08de5",
   "metadata": {
    "ExecuteTime": {
     "end_time": "2024-03-02T04:22:18.280014Z",
     "start_time": "2024-03-02T04:22:18.165047Z"
    },
    "collapsed": false
   },
   "outputs": [
    {
     "name": "stdout",
     "output_type": "stream",
     "text": [
      "zsh:1: command not found: hey\r\n"
     ]
    }
   ],
   "source": []
  }
 ],
 "metadata": {
  "kernelspec": {
   "display_name": "Python 3",
   "language": "python",
   "name": "python3"
  },
  "language_info": {
   "codemirror_mode": {
    "name": "ipython",
    "version": 2
   },
   "file_extension": ".py",
   "mimetype": "text/x-python",
   "name": "python",
   "nbconvert_exporter": "python",
   "pygments_lexer": "ipython2",
   "version": "2.7.6"
  }
 },
 "nbformat": 4,
 "nbformat_minor": 5
}
